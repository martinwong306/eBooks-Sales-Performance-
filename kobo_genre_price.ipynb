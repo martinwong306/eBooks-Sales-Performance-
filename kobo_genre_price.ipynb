{
 "cells": [
  {
   "cell_type": "code",
   "execution_count": 1,
   "id": "27fb610d-07c2-4cba-bbe0-2d2e0fd1bd2c",
   "metadata": {},
   "outputs": [],
   "source": [
    "import pandas as pd\n",
    "import numpy as np\n",
    "import seaborn as sns\n",
    "import re"
   ]
  },
  {
   "cell_type": "code",
   "execution_count": 2,
   "id": "ed80ddca-1395-46e3-84a9-1e6ad823f0c8",
   "metadata": {},
   "outputs": [],
   "source": [
    "df = pd.read_csv('/Users/dev_martin/kobo/allBooks.csv')"
   ]
  },
  {
   "cell_type": "code",
   "execution_count": 3,
   "id": "4b6d79e1-8bb9-4168-a9d3-470266253501",
   "metadata": {},
   "outputs": [
    {
     "data": {
      "text/html": [
       "<div>\n",
       "<style scoped>\n",
       "    .dataframe tbody tr th:only-of-type {\n",
       "        vertical-align: middle;\n",
       "    }\n",
       "\n",
       "    .dataframe tbody tr th {\n",
       "        vertical-align: top;\n",
       "    }\n",
       "\n",
       "    .dataframe thead th {\n",
       "        text-align: right;\n",
       "    }\n",
       "</style>\n",
       "<table border=\"1\" class=\"dataframe\">\n",
       "  <thead>\n",
       "    <tr style=\"text-align: right;\">\n",
       "      <th></th>\n",
       "      <th>Hush Little Girl</th>\n",
       "      <th>Lisa Regan</th>\n",
       "      <th>#3 in Mystery &amp; Suspense , Police Procedural #6 in Fiction &amp; Literature , Thrillers #7 in Mystery &amp; Suspense , Thrillers</th>\n",
       "      <th>$5.99</th>\n",
       "      <th>Available Apr 14, 2021</th>\n",
       "      <th>2021-04-13</th>\n",
       "    </tr>\n",
       "  </thead>\n",
       "  <tbody>\n",
       "    <tr>\n",
       "      <th>0</th>\n",
       "      <td>Juniper Wiles</td>\n",
       "      <td>Charles de Lint</td>\n",
       "      <td>#1 in Science Fiction &amp; Fantasy , Fantasy , Co...</td>\n",
       "      <td>$9.31</td>\n",
       "      <td>Available Apr 30, 2021</td>\n",
       "      <td>2021-04-13</td>\n",
       "    </tr>\n",
       "    <tr>\n",
       "      <th>1</th>\n",
       "      <td>The Crown of Gilded Bones</td>\n",
       "      <td>Jennifer L. Armentrout</td>\n",
       "      <td>#3 in Romance , New Adult #4 in Romance , Para...</td>\n",
       "      <td>$7.99</td>\n",
       "      <td>Available Apr 20, 2021</td>\n",
       "      <td>2021-04-13</td>\n",
       "    </tr>\n",
       "    <tr>\n",
       "      <th>2</th>\n",
       "      <td>The Becoming</td>\n",
       "      <td>Nora Roberts</td>\n",
       "      <td>#8 in Science Fiction &amp; Fantasy , Fantasy #10 ...</td>\n",
       "      <td>$14.99</td>\n",
       "      <td>Available Nov 23, 2021</td>\n",
       "      <td>2021-04-13</td>\n",
       "    </tr>\n",
       "    <tr>\n",
       "      <th>3</th>\n",
       "      <td>Forgotten in Death</td>\n",
       "      <td>J. D. Robb</td>\n",
       "      <td>#9 in Romance , Romantic Suspense #13 in Myste...</td>\n",
       "      <td>$14.99</td>\n",
       "      <td>Available Sep 7, 2021</td>\n",
       "      <td>2021-04-13</td>\n",
       "    </tr>\n",
       "    <tr>\n",
       "      <th>4</th>\n",
       "      <td>Freed</td>\n",
       "      <td>E L James</td>\n",
       "      <td>#38 in Romance , Contemporary #42 in Fiction &amp;...</td>\n",
       "      <td>$13.31</td>\n",
       "      <td>Available Jun 1, 2021</td>\n",
       "      <td>2021-04-13</td>\n",
       "    </tr>\n",
       "  </tbody>\n",
       "</table>\n",
       "</div>"
      ],
      "text/plain": [
       "            Hush Little Girl              Lisa Regan  \\\n",
       "0              Juniper Wiles         Charles de Lint   \n",
       "1  The Crown of Gilded Bones  Jennifer L. Armentrout   \n",
       "2               The Becoming            Nora Roberts   \n",
       "3         Forgotten in Death              J. D. Robb   \n",
       "4                      Freed               E L James   \n",
       "\n",
       "  #3 in Mystery & Suspense , Police Procedural #6 in Fiction & Literature , Thrillers #7 in Mystery & Suspense , Thrillers  \\\n",
       "0  #1 in Science Fiction & Fantasy , Fantasy , Co...                                                                         \n",
       "1  #3 in Romance , New Adult #4 in Romance , Para...                                                                         \n",
       "2  #8 in Science Fiction & Fantasy , Fantasy #10 ...                                                                         \n",
       "3  #9 in Romance , Romantic Suspense #13 in Myste...                                                                         \n",
       "4  #38 in Romance , Contemporary #42 in Fiction &...                                                                         \n",
       "\n",
       "    $5.99  Available Apr 14, 2021  2021-04-13  \n",
       "0   $9.31  Available Apr 30, 2021  2021-04-13  \n",
       "1   $7.99  Available Apr 20, 2021  2021-04-13  \n",
       "2  $14.99  Available Nov 23, 2021  2021-04-13  \n",
       "3  $14.99   Available Sep 7, 2021  2021-04-13  \n",
       "4  $13.31   Available Jun 1, 2021  2021-04-13  "
      ]
     },
     "execution_count": 3,
     "metadata": {},
     "output_type": "execute_result"
    }
   ],
   "source": [
    "df.head()"
   ]
  },
  {
   "cell_type": "code",
   "execution_count": 4,
   "id": "606aebb1-4b0f-4240-8bce-d7940b83c262",
   "metadata": {},
   "outputs": [],
   "source": [
    "df.columns = ['Title', 'Author', 'Genre', 'Price', 'Available_date', 'Extract_date']"
   ]
  },
  {
   "cell_type": "code",
   "execution_count": 5,
   "id": "549d1da8-f6da-4cb5-9251-2a2263e47513",
   "metadata": {},
   "outputs": [
    {
     "data": {
      "text/html": [
       "<div>\n",
       "<style scoped>\n",
       "    .dataframe tbody tr th:only-of-type {\n",
       "        vertical-align: middle;\n",
       "    }\n",
       "\n",
       "    .dataframe tbody tr th {\n",
       "        vertical-align: top;\n",
       "    }\n",
       "\n",
       "    .dataframe thead th {\n",
       "        text-align: right;\n",
       "    }\n",
       "</style>\n",
       "<table border=\"1\" class=\"dataframe\">\n",
       "  <thead>\n",
       "    <tr style=\"text-align: right;\">\n",
       "      <th></th>\n",
       "      <th>Title</th>\n",
       "      <th>Author</th>\n",
       "      <th>Genre</th>\n",
       "      <th>Price</th>\n",
       "      <th>Available_date</th>\n",
       "      <th>Extract_date</th>\n",
       "    </tr>\n",
       "  </thead>\n",
       "  <tbody>\n",
       "    <tr>\n",
       "      <th>0</th>\n",
       "      <td>Juniper Wiles</td>\n",
       "      <td>Charles de Lint</td>\n",
       "      <td>#1 in Science Fiction &amp; Fantasy , Fantasy , Co...</td>\n",
       "      <td>$9.31</td>\n",
       "      <td>Available Apr 30, 2021</td>\n",
       "      <td>2021-04-13</td>\n",
       "    </tr>\n",
       "    <tr>\n",
       "      <th>1</th>\n",
       "      <td>The Crown of Gilded Bones</td>\n",
       "      <td>Jennifer L. Armentrout</td>\n",
       "      <td>#3 in Romance , New Adult #4 in Romance , Para...</td>\n",
       "      <td>$7.99</td>\n",
       "      <td>Available Apr 20, 2021</td>\n",
       "      <td>2021-04-13</td>\n",
       "    </tr>\n",
       "    <tr>\n",
       "      <th>2</th>\n",
       "      <td>The Becoming</td>\n",
       "      <td>Nora Roberts</td>\n",
       "      <td>#8 in Science Fiction &amp; Fantasy , Fantasy #10 ...</td>\n",
       "      <td>$14.99</td>\n",
       "      <td>Available Nov 23, 2021</td>\n",
       "      <td>2021-04-13</td>\n",
       "    </tr>\n",
       "    <tr>\n",
       "      <th>3</th>\n",
       "      <td>Forgotten in Death</td>\n",
       "      <td>J. D. Robb</td>\n",
       "      <td>#9 in Romance , Romantic Suspense #13 in Myste...</td>\n",
       "      <td>$14.99</td>\n",
       "      <td>Available Sep 7, 2021</td>\n",
       "      <td>2021-04-13</td>\n",
       "    </tr>\n",
       "    <tr>\n",
       "      <th>4</th>\n",
       "      <td>Freed</td>\n",
       "      <td>E L James</td>\n",
       "      <td>#38 in Romance , Contemporary #42 in Fiction &amp;...</td>\n",
       "      <td>$13.31</td>\n",
       "      <td>Available Jun 1, 2021</td>\n",
       "      <td>2021-04-13</td>\n",
       "    </tr>\n",
       "  </tbody>\n",
       "</table>\n",
       "</div>"
      ],
      "text/plain": [
       "                       Title                  Author  \\\n",
       "0              Juniper Wiles         Charles de Lint   \n",
       "1  The Crown of Gilded Bones  Jennifer L. Armentrout   \n",
       "2               The Becoming            Nora Roberts   \n",
       "3         Forgotten in Death              J. D. Robb   \n",
       "4                      Freed               E L James   \n",
       "\n",
       "                                               Genre   Price  \\\n",
       "0  #1 in Science Fiction & Fantasy , Fantasy , Co...   $9.31   \n",
       "1  #3 in Romance , New Adult #4 in Romance , Para...   $7.99   \n",
       "2  #8 in Science Fiction & Fantasy , Fantasy #10 ...  $14.99   \n",
       "3  #9 in Romance , Romantic Suspense #13 in Myste...  $14.99   \n",
       "4  #38 in Romance , Contemporary #42 in Fiction &...  $13.31   \n",
       "\n",
       "           Available_date Extract_date  \n",
       "0  Available Apr 30, 2021   2021-04-13  \n",
       "1  Available Apr 20, 2021   2021-04-13  \n",
       "2  Available Nov 23, 2021   2021-04-13  \n",
       "3   Available Sep 7, 2021   2021-04-13  \n",
       "4   Available Jun 1, 2021   2021-04-13  "
      ]
     },
     "execution_count": 5,
     "metadata": {},
     "output_type": "execute_result"
    }
   ],
   "source": [
    "df.head()"
   ]
  },
  {
   "cell_type": "code",
   "execution_count": 6,
   "id": "c73b4d0a-9657-488f-ba86-7a915bd63052",
   "metadata": {},
   "outputs": [],
   "source": [
    "df.drop(['Author', 'Available_date', 'Extract_date'], axis=1, inplace=True)"
   ]
  },
  {
   "cell_type": "code",
   "execution_count": 7,
   "id": "048b791a-6fab-4c4e-ae73-443f73b0f984",
   "metadata": {},
   "outputs": [
    {
     "data": {
      "text/html": [
       "<div>\n",
       "<style scoped>\n",
       "    .dataframe tbody tr th:only-of-type {\n",
       "        vertical-align: middle;\n",
       "    }\n",
       "\n",
       "    .dataframe tbody tr th {\n",
       "        vertical-align: top;\n",
       "    }\n",
       "\n",
       "    .dataframe thead th {\n",
       "        text-align: right;\n",
       "    }\n",
       "</style>\n",
       "<table border=\"1\" class=\"dataframe\">\n",
       "  <thead>\n",
       "    <tr style=\"text-align: right;\">\n",
       "      <th></th>\n",
       "      <th>Title</th>\n",
       "      <th>Genre</th>\n",
       "      <th>Price</th>\n",
       "    </tr>\n",
       "  </thead>\n",
       "  <tbody>\n",
       "    <tr>\n",
       "      <th>0</th>\n",
       "      <td>Juniper Wiles</td>\n",
       "      <td>#1 in Science Fiction &amp; Fantasy , Fantasy , Co...</td>\n",
       "      <td>$9.31</td>\n",
       "    </tr>\n",
       "    <tr>\n",
       "      <th>1</th>\n",
       "      <td>The Crown of Gilded Bones</td>\n",
       "      <td>#3 in Romance , New Adult #4 in Romance , Para...</td>\n",
       "      <td>$7.99</td>\n",
       "    </tr>\n",
       "    <tr>\n",
       "      <th>2</th>\n",
       "      <td>The Becoming</td>\n",
       "      <td>#8 in Science Fiction &amp; Fantasy , Fantasy #10 ...</td>\n",
       "      <td>$14.99</td>\n",
       "    </tr>\n",
       "    <tr>\n",
       "      <th>3</th>\n",
       "      <td>Forgotten in Death</td>\n",
       "      <td>#9 in Romance , Romantic Suspense #13 in Myste...</td>\n",
       "      <td>$14.99</td>\n",
       "    </tr>\n",
       "    <tr>\n",
       "      <th>4</th>\n",
       "      <td>Freed</td>\n",
       "      <td>#38 in Romance , Contemporary #42 in Fiction &amp;...</td>\n",
       "      <td>$13.31</td>\n",
       "    </tr>\n",
       "  </tbody>\n",
       "</table>\n",
       "</div>"
      ],
      "text/plain": [
       "                       Title  \\\n",
       "0              Juniper Wiles   \n",
       "1  The Crown of Gilded Bones   \n",
       "2               The Becoming   \n",
       "3         Forgotten in Death   \n",
       "4                      Freed   \n",
       "\n",
       "                                               Genre   Price  \n",
       "0  #1 in Science Fiction & Fantasy , Fantasy , Co...   $9.31  \n",
       "1  #3 in Romance , New Adult #4 in Romance , Para...   $7.99  \n",
       "2  #8 in Science Fiction & Fantasy , Fantasy #10 ...  $14.99  \n",
       "3  #9 in Romance , Romantic Suspense #13 in Myste...  $14.99  \n",
       "4  #38 in Romance , Contemporary #42 in Fiction &...  $13.31  "
      ]
     },
     "execution_count": 7,
     "metadata": {},
     "output_type": "execute_result"
    }
   ],
   "source": [
    "df.head()"
   ]
  },
  {
   "cell_type": "code",
   "execution_count": 8,
   "id": "e4696234-ae5c-410e-91c6-0d556e47cab1",
   "metadata": {},
   "outputs": [],
   "source": [
    "def genre_(cat):\n",
    "    src_pat = re.compile(r'#.*#')\n",
    "    try:\n",
    "        new_src = src_pat.search(cat).group(0)\n",
    "    except:\n",
    "        new_src = cat\n",
    "    new_src = re.sub('#\\d+\\sin\\s', '', new_src)\n",
    "    new_src = re.sub(',.*#', '', new_src)\n",
    "    return new_src"
   ]
  },
  {
   "cell_type": "code",
   "execution_count": 9,
   "id": "74a468f0-ebb2-433d-bb5f-1daf436dba10",
   "metadata": {},
   "outputs": [],
   "source": [
    "df['Genre'] = df['Genre'].apply(genre_)"
   ]
  },
  {
   "cell_type": "code",
   "execution_count": 10,
   "id": "bce37380-f32b-4002-a5df-afa7b038f727",
   "metadata": {},
   "outputs": [
    {
     "data": {
      "text/html": [
       "<div>\n",
       "<style scoped>\n",
       "    .dataframe tbody tr th:only-of-type {\n",
       "        vertical-align: middle;\n",
       "    }\n",
       "\n",
       "    .dataframe tbody tr th {\n",
       "        vertical-align: top;\n",
       "    }\n",
       "\n",
       "    .dataframe thead th {\n",
       "        text-align: right;\n",
       "    }\n",
       "</style>\n",
       "<table border=\"1\" class=\"dataframe\">\n",
       "  <thead>\n",
       "    <tr style=\"text-align: right;\">\n",
       "      <th></th>\n",
       "      <th>Title</th>\n",
       "      <th>Genre</th>\n",
       "      <th>Price</th>\n",
       "    </tr>\n",
       "  </thead>\n",
       "  <tbody>\n",
       "    <tr>\n",
       "      <th>0</th>\n",
       "      <td>Juniper Wiles</td>\n",
       "      <td>Science Fiction &amp; Fantasy , Fantasy , Contempo...</td>\n",
       "      <td>$9.31</td>\n",
       "    </tr>\n",
       "    <tr>\n",
       "      <th>1</th>\n",
       "      <td>The Crown of Gilded Bones</td>\n",
       "      <td>Romance</td>\n",
       "      <td>$7.99</td>\n",
       "    </tr>\n",
       "    <tr>\n",
       "      <th>2</th>\n",
       "      <td>The Becoming</td>\n",
       "      <td>Science Fiction &amp; Fantasy</td>\n",
       "      <td>$14.99</td>\n",
       "    </tr>\n",
       "    <tr>\n",
       "      <th>3</th>\n",
       "      <td>Forgotten in Death</td>\n",
       "      <td>Romance</td>\n",
       "      <td>$14.99</td>\n",
       "    </tr>\n",
       "    <tr>\n",
       "      <th>4</th>\n",
       "      <td>Freed</td>\n",
       "      <td>Romance</td>\n",
       "      <td>$13.31</td>\n",
       "    </tr>\n",
       "  </tbody>\n",
       "</table>\n",
       "</div>"
      ],
      "text/plain": [
       "                       Title  \\\n",
       "0              Juniper Wiles   \n",
       "1  The Crown of Gilded Bones   \n",
       "2               The Becoming   \n",
       "3         Forgotten in Death   \n",
       "4                      Freed   \n",
       "\n",
       "                                               Genre   Price  \n",
       "0  Science Fiction & Fantasy , Fantasy , Contempo...   $9.31  \n",
       "1                                           Romance    $7.99  \n",
       "2                         Science Fiction & Fantasy   $14.99  \n",
       "3                                           Romance   $14.99  \n",
       "4                                           Romance   $13.31  "
      ]
     },
     "execution_count": 10,
     "metadata": {},
     "output_type": "execute_result"
    }
   ],
   "source": [
    "df.head()"
   ]
  },
  {
   "cell_type": "code",
   "execution_count": 11,
   "id": "ecea6788-ef61-4eb0-9b82-46ef90d28813",
   "metadata": {},
   "outputs": [
    {
     "data": {
      "text/plain": [
       "Romance                                                           67\n",
       "Fiction & Literature                                              59\n",
       "Mystery & Suspense                                                32\n",
       "Science Fiction & Fantasy                                         16\n",
       "Nonfiction                                                         5\n",
       "Romance , Contemporary                                             4\n",
       "Romance , Paranormal                                               2\n",
       "Romance , Romantic Suspense                                        1\n",
       "Science Fiction & Fantasy , Fantasy , Contemporary                 1\n",
       "Mystery & Suspense , Traditional British                           1\n",
       "Science Fiction & Fantasy , Science Fiction , Adventure Sci Fi     1\n",
       "Fiction - YA                                                       1\n",
       "Kids                                                               1\n",
       "Comics & Graphic Novels , Manga , Fantasy                          1\n",
       "Name: Genre, dtype: int64"
      ]
     },
     "execution_count": 11,
     "metadata": {},
     "output_type": "execute_result"
    }
   ],
   "source": [
    "df['Genre'].value_counts()"
   ]
  },
  {
   "cell_type": "code",
   "execution_count": 12,
   "id": "cf18e696-172a-4445-aeb6-e3d7a470f045",
   "metadata": {},
   "outputs": [],
   "source": [
    "catgory = df['Genre']"
   ]
  },
  {
   "cell_type": "code",
   "execution_count": 13,
   "id": "38d411b5-31ba-4b4e-8220-4a7f7682e147",
   "metadata": {},
   "outputs": [],
   "source": [
    "romance = catgory.str.contains('Romance')"
   ]
  },
  {
   "cell_type": "code",
   "execution_count": 14,
   "id": "8e6dcf0d-f695-43b2-816a-5bc5bf2584fa",
   "metadata": {},
   "outputs": [],
   "source": [
    "science = catgory.str.contains('Science Fiction & Fantasy')"
   ]
  },
  {
   "cell_type": "code",
   "execution_count": 15,
   "id": "3a962b0e-aa2e-41b9-a4d1-662888781a0b",
   "metadata": {},
   "outputs": [],
   "source": [
    "comics = catgory.str.contains('Comics & Graphic Novels')"
   ]
  },
  {
   "cell_type": "code",
   "execution_count": 16,
   "id": "511c4948-2ef2-4801-86e6-cdd6946e5359",
   "metadata": {},
   "outputs": [],
   "source": [
    "mystery = catgory.str.contains('Mystery & Suspense')"
   ]
  },
  {
   "cell_type": "code",
   "execution_count": 17,
   "id": "bc2e0ac8-8f24-4b49-abaa-35c0949c93a8",
   "metadata": {},
   "outputs": [],
   "source": [
    "df['Genre'] = np.where(romance, 'Romance',\n",
    "                      np.where(science, 'Science Fiction & Fantasy',\n",
    "                              np.where(comics, 'Comics & Graphic Novels',\n",
    "                                      np.where(mystery, 'Mystery & Suspense', df['Genre']))))"
   ]
  },
  {
   "cell_type": "code",
   "execution_count": 18,
   "id": "5341a870-c639-421d-ad5a-b0dd05779bd5",
   "metadata": {},
   "outputs": [
    {
     "data": {
      "text/plain": [
       "Romance                      74\n",
       "Fiction & Literature         59\n",
       "Mystery & Suspense           33\n",
       "Science Fiction & Fantasy    18\n",
       "Nonfiction                    5\n",
       "Comics & Graphic Novels       1\n",
       "Kids                          1\n",
       "Fiction - YA                  1\n",
       "Name: Genre, dtype: int64"
      ]
     },
     "execution_count": 18,
     "metadata": {},
     "output_type": "execute_result"
    }
   ],
   "source": [
    "df['Genre'].value_counts()"
   ]
  },
  {
   "cell_type": "code",
   "execution_count": 19,
   "id": "bf17c6d4-e8ec-4b64-8f5a-8c2ae567a7fc",
   "metadata": {},
   "outputs": [],
   "source": [
    "def remove_dollarsign(s):\n",
    "    return s.replace('$', '')\n",
    "\n",
    "df['Price'] = df['Price'].apply(remove_dollarsign)"
   ]
  },
  {
   "cell_type": "code",
   "execution_count": 20,
   "id": "3ff314fd-73fe-419a-98c0-9e86fa2692a3",
   "metadata": {},
   "outputs": [],
   "source": [
    "df['Price'] = pd.to_numeric(df['Price'], errors='coerce')"
   ]
  },
  {
   "cell_type": "code",
   "execution_count": 21,
   "id": "375374ec-1570-48d3-b9de-4e4aab767c9f",
   "metadata": {},
   "outputs": [
    {
     "data": {
      "text/plain": [
       "Title     object\n",
       "Genre     object\n",
       "Price    float64\n",
       "dtype: object"
      ]
     },
     "execution_count": 21,
     "metadata": {},
     "output_type": "execute_result"
    }
   ],
   "source": [
    "df.dtypes"
   ]
  },
  {
   "cell_type": "code",
   "execution_count": 22,
   "id": "4b48b51f-75e1-4a78-9396-413db2a66eb6",
   "metadata": {},
   "outputs": [
    {
     "data": {
      "text/html": [
       "<div>\n",
       "<style scoped>\n",
       "    .dataframe tbody tr th:only-of-type {\n",
       "        vertical-align: middle;\n",
       "    }\n",
       "\n",
       "    .dataframe tbody tr th {\n",
       "        vertical-align: top;\n",
       "    }\n",
       "\n",
       "    .dataframe thead th {\n",
       "        text-align: right;\n",
       "    }\n",
       "</style>\n",
       "<table border=\"1\" class=\"dataframe\">\n",
       "  <thead>\n",
       "    <tr style=\"text-align: right;\">\n",
       "      <th></th>\n",
       "      <th>Title</th>\n",
       "      <th>Genre</th>\n",
       "      <th>Price</th>\n",
       "    </tr>\n",
       "  </thead>\n",
       "  <tbody>\n",
       "    <tr>\n",
       "      <th>0</th>\n",
       "      <td>Juniper Wiles</td>\n",
       "      <td>Science Fiction &amp; Fantasy</td>\n",
       "      <td>9.31</td>\n",
       "    </tr>\n",
       "    <tr>\n",
       "      <th>1</th>\n",
       "      <td>The Crown of Gilded Bones</td>\n",
       "      <td>Romance</td>\n",
       "      <td>7.99</td>\n",
       "    </tr>\n",
       "    <tr>\n",
       "      <th>2</th>\n",
       "      <td>The Becoming</td>\n",
       "      <td>Science Fiction &amp; Fantasy</td>\n",
       "      <td>14.99</td>\n",
       "    </tr>\n",
       "    <tr>\n",
       "      <th>3</th>\n",
       "      <td>Forgotten in Death</td>\n",
       "      <td>Romance</td>\n",
       "      <td>14.99</td>\n",
       "    </tr>\n",
       "    <tr>\n",
       "      <th>4</th>\n",
       "      <td>Freed</td>\n",
       "      <td>Romance</td>\n",
       "      <td>13.31</td>\n",
       "    </tr>\n",
       "  </tbody>\n",
       "</table>\n",
       "</div>"
      ],
      "text/plain": [
       "                       Title                      Genre  Price\n",
       "0              Juniper Wiles  Science Fiction & Fantasy   9.31\n",
       "1  The Crown of Gilded Bones                    Romance   7.99\n",
       "2               The Becoming  Science Fiction & Fantasy  14.99\n",
       "3         Forgotten in Death                    Romance  14.99\n",
       "4                      Freed                    Romance  13.31"
      ]
     },
     "execution_count": 22,
     "metadata": {},
     "output_type": "execute_result"
    }
   ],
   "source": [
    "df.head()"
   ]
  },
  {
   "cell_type": "raw",
   "id": "c6388545-c5f9-40b7-84a1-1f9bf13d8e5b",
   "metadata": {},
   "source": [
    "df.to_csv('/Users/dev_martin/kobo/genre_price.csv')"
   ]
  },
  {
   "cell_type": "code",
   "execution_count": 23,
   "id": "65a3f092-9e59-4c1b-85d2-00e25cd191a5",
   "metadata": {},
   "outputs": [
    {
     "data": {
      "text/plain": [
       "<seaborn.axisgrid.FacetGrid at 0x7f84716c8c40>"
      ]
     },
     "execution_count": 23,
     "metadata": {},
     "output_type": "execute_result"
    },
    {
     "data": {
      "image/png": "[encoded data removed]",
      "text/plain": [
       "<Figure size 420.5x360 with 1 Axes>"
      ]
     },
     "metadata": {
      "needs_background": "light"
     },
     "output_type": "display_data"
    }
   ],
   "source": [
    "sns.displot(df)"
   ]
  },
  {
   "cell_type": "code",
   "execution_count": 24,
   "id": "db24fc67-8d49-43ff-9342-3b7099028d2e",
   "metadata": {},
   "outputs": [
    {
     "data": {
      "text/plain": [
       "2072.16"
      ]
     },
     "execution_count": 24,
     "metadata": {},
     "output_type": "execute_result"
    }
   ],
   "source": [
    "df.Price.sum()"
   ]
  },
  {
   "cell_type": "code",
   "execution_count": 25,
   "id": "bb396d16-46ea-41a6-87fc-e26ff77167b3",
   "metadata": {},
   "outputs": [
    {
     "data": {
      "text/html": [
       "<div>\n",
       "<style scoped>\n",
       "    .dataframe tbody tr th:only-of-type {\n",
       "        vertical-align: middle;\n",
       "    }\n",
       "\n",
       "    .dataframe tbody tr th {\n",
       "        vertical-align: top;\n",
       "    }\n",
       "\n",
       "    .dataframe thead th {\n",
       "        text-align: right;\n",
       "    }\n",
       "</style>\n",
       "<table border=\"1\" class=\"dataframe\">\n",
       "  <thead>\n",
       "    <tr style=\"text-align: right;\">\n",
       "      <th></th>\n",
       "      <th>Price</th>\n",
       "    </tr>\n",
       "    <tr>\n",
       "      <th>Genre</th>\n",
       "      <th></th>\n",
       "    </tr>\n",
       "  </thead>\n",
       "  <tbody>\n",
       "    <tr>\n",
       "      <th>Fiction &amp; Literature</th>\n",
       "      <td>694.80</td>\n",
       "    </tr>\n",
       "    <tr>\n",
       "      <th>Romance</th>\n",
       "      <td>644.07</td>\n",
       "    </tr>\n",
       "    <tr>\n",
       "      <th>Mystery &amp; Suspense</th>\n",
       "      <td>410.92</td>\n",
       "    </tr>\n",
       "    <tr>\n",
       "      <th>Science Fiction &amp; Fantasy</th>\n",
       "      <td>216.13</td>\n",
       "    </tr>\n",
       "    <tr>\n",
       "      <th>Nonfiction</th>\n",
       "      <td>71.95</td>\n",
       "    </tr>\n",
       "    <tr>\n",
       "      <th>Comics &amp; Graphic Novels</th>\n",
       "      <td>13.31</td>\n",
       "    </tr>\n",
       "    <tr>\n",
       "      <th>Kids</th>\n",
       "      <td>11.99</td>\n",
       "    </tr>\n",
       "    <tr>\n",
       "      <th>Fiction - YA</th>\n",
       "      <td>8.99</td>\n",
       "    </tr>\n",
       "  </tbody>\n",
       "</table>\n",
       "</div>"
      ],
      "text/plain": [
       "                            Price\n",
       "Genre                            \n",
       "Fiction & Literature       694.80\n",
       "Romance                    644.07\n",
       "Mystery & Suspense         410.92\n",
       "Science Fiction & Fantasy  216.13\n",
       "Nonfiction                  71.95\n",
       "Comics & Graphic Novels     13.31\n",
       "Kids                        11.99\n",
       "Fiction - YA                 8.99"
      ]
     },
     "execution_count": 25,
     "metadata": {},
     "output_type": "execute_result"
    }
   ],
   "source": [
    "df.groupby(by=['Genre']).sum().sort_values(by=['Price'], ascending=False)"
   ]
  }
 ],
 "metadata": {
  "kernelspec": {
   "display_name": "Python 3",
   "language": "python",
   "name": "python3"
  },
  "language_info": {
   "codemirror_mode": {
    "name": "ipython",
    "version": 3
   },
   "file_extension": ".py",
   "mimetype": "text/x-python",
   "name": "python",
   "nbconvert_exporter": "python",
   "pygments_lexer": "ipython3",
   "version": "3.9.2"
  }
 },
 "nbformat": 4,
 "nbformat_minor": 5
}
